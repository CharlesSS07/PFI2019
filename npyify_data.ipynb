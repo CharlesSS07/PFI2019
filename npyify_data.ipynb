{
 "cells": [
  {
   "cell_type": "code",
   "execution_count": null,
   "metadata": {
    "scrolled": true
   },
   "outputs": [],
   "source": [
    "# get the go functino data from file, and make binary label for does function\n",
    "\n",
    "import csv\n",
    "import re\n",
    "import numpy as np\n",
    "import pandas as pd\n",
    "\n",
    "genes = '''SMAD4\tGO:0005575\tGO:0005622\tGO:0005623\tGO:0005667\tGO:0032991\tGO:0043234\tGO:0044424\tGO:0044464\tGO:0003674\tGO:0003674\tGO:0005488\tGO:0005488\tGO:0005515\tGO:0005515\tGO:0042802\tGO:0042802\tGO:0042803\tGO:0046332\tGO:0046983\tGO:0070411\tGO:0070412\n",
    "PTEN\tGO:0003674\tGO:0003674\tGO:0005488\tGO:0005488\tGO:0005515\tGO:0005515\tGO:0005515\tGO:0010997\tGO:0019899\tGO:0019904\tGO:0030165\tGO:0032403\n",
    "BRAF\tGO:0003674\tGO:0005488\tGO:0005515\tGO:0005515\tGO:0042802\n",
    "IDH1\tGO:0003674\tGO:0005102\tGO:0005488\tGO:0005515\tGO:0042802\tGO:0042803\tGO:0046983\n",
    "TP53\tGO:0001085\tGO:0002020\tGO:0003674\tGO:0003674\tGO:0003674\tGO:0003674\tGO:0005102\tGO:0005488\tGO:0005488\tGO:0005488\tGO:0005488\tGO:0005515\tGO:0005515\tGO:0005515\tGO:0005515\tGO:0005515\tGO:0008134\tGO:0008134\tGO:0019899\tGO:0019899\tGO:0019899\tGO:0019900\tGO:0019901\tGO:0019902\tGO:0019902\tGO:0019903\tGO:0019903\tGO:0030971\tGO:0031625\tGO:0035035\tGO:0042802\tGO:0044389\tGO:0046982\tGO:0046983\tGO:0047485\tGO:0051087\tGO:0051721\n",
    "CIC\tGO:0003674\tGO:0005488\tGO:0005515\n",
    "CTNNB1\tGO:0001085\tGO:0001102\tGO:0003674\tGO:0003674\tGO:0003674\tGO:0005102\tGO:0005488\tGO:0005488\tGO:0005488\tGO:0005515\tGO:0005515\tGO:0005515\tGO:0008022\tGO:0008134\tGO:0008134\tGO:0019899\tGO:0019899\tGO:0019899\tGO:0019900\tGO:0019902\tGO:0019903\tGO:0030331\tGO:0033613\tGO:0035257\tGO:0035257\tGO:0035258\tGO:0044325\tGO:0045294\tGO:0045296\tGO:0046332\tGO:0046332\tGO:0050839\tGO:0051427\tGO:0070411\tGO:0070412\n",
    "PIK3CA\tGO:0003674\tGO:0005488\tGO:0005515\n",
    "PIK3R1\tGO:0007154\tGO:0007165\tGO:0007166\tGO:0007167\tGO:0007169\tGO:0008150\tGO:0008286\tGO:0009719\tGO:0009725\tGO:0009987\tGO:0010033\tGO:0010243\tGO:0023052\tGO:0032868\tGO:0032869\tGO:0032870\tGO:0042221\tGO:0043434\tGO:0044699\tGO:0044700\tGO:0044763\tGO:0048009\tGO:0050789\tGO:0050794\tGO:0050896\tGO:0051716\tGO:0065007\tGO:0070887\tGO:0071310\tGO:0071375\tGO:0071417\tGO:0071495\tGO:1901652\tGO:1901653\tGO:1901698\tGO:1901699\tGO:1901700\tGO:1901701\tGO:0003674\tGO:0003674\tGO:0005102\tGO:0005126\tGO:0005158\tGO:0005159\tGO:0005165\tGO:0005167\tGO:0005168\tGO:0005488\tGO:0005488\tGO:0005515\tGO:0005515\tGO:0019899\tGO:0019902\tGO:0019903\tGO:0032403\n",
    "ERBB3\tGO:0003674\tGO:0003674\tGO:0005488\tGO:0005488\tGO:0005515\tGO:0005515\tGO:0019838\n",
    "CDKN2A\tGO:0002039\tGO:0003674\tGO:0003674\tGO:0003674\tGO:0005488\tGO:0005488\tGO:0005488\tGO:0005515\tGO:0005515\tGO:0005515\tGO:0005515\tGO:0008134\tGO:0019899\tGO:0019900\tGO:0019901\tGO:0097371\n",
    "NCOR1\tGO:0001085\tGO:0001102\tGO:0003674\tGO:0003674\tGO:0005102\tGO:0005488\tGO:0005488\tGO:0005515\tGO:0005515\tGO:0005515\tGO:0008134\tGO:0019899\tGO:0033613\tGO:0035257\tGO:0042826\tGO:0051427\n",
    "NF1\tGO:0003674\tGO:0005488\tGO:0005515\n",
    "APC\tGO:0008150\tGO:0009966\tGO:0009968\tGO:0010646\tGO:0010648\tGO:0023051\tGO:0023057\tGO:0030111\tGO:0030178\tGO:0048519\tGO:0048523\tGO:0048583\tGO:0048585\tGO:0050789\tGO:0050794\tGO:0060828\tGO:0065007\tGO:0090090\tGO:0003674\tGO:0003674\tGO:0005488\tGO:0005488\tGO:0005515\tGO:0005515\tGO:0005515\tGO:0008013\tGO:0019899\tGO:0019900\tGO:0019901\tGO:0045295\n",
    "FBXW7\tGO:0003674\tGO:0005488\tGO:0005515\tGO:0005515\tGO:0042802\n",
    "DNMT3A\tGO:0003674\tGO:0005488\tGO:0005515\n",
    "SF3B1\tGO:0003674\tGO:0005488\tGO:0005515\n",
    "FLT3\tGO:0003674\tGO:0005488\tGO:0005515'''\n",
    "\n",
    "'''go_terms = [\n",
    "    'GO:0045786',\n",
    "    'GO:0003684',\n",
    "    'GO:0030528',\n",
    "    'GO:0006355',\n",
    "    'GO:0003700',\n",
    "    'GO:0007049',\n",
    "    'GO:0005634',\n",
    "    'GO:0006366',\n",
    "    'GO:0008151',\n",
    "    'GO:0003713',\n",
    "    'GO:0006281',\n",
    "    'GO:0003676',\n",
    "    'GO:0003824',\n",
    "    'GO:0006810',\n",
    "    'GO:0016021'\n",
    "]'''\n",
    "\n",
    "go_terms = {}\n",
    "for gene in genes.split('\\n'):\n",
    "    line = gene.split('\\t')\n",
    "    name = line[0]\n",
    "    functions = line[1:]\n",
    "    for function in functions:\n",
    "        go_terms[function] = 0\n",
    "    #go_terms[name] = '|'.join(functions)\n",
    "\n",
    "\n",
    "terms = '|'.join(go_terms.keys())\n",
    "go_terms = terms.split('|')\n",
    "print(len(go_terms), go_terms)\n",
    "pattern = re.compile(terms)\n",
    "go_functions = {}\n",
    "empty = np.zeros(shape=len(go_terms))\n",
    "with open(\"9606_experimental.tsv\") as tsv:\n",
    "    for line in csv.reader(tsv, dialect=\"excel-tab\"):\n",
    "        protein = '9606.'+line[1]\n",
    "        go_functions[protein] = go_functions.get(protein, np.copy(empty))\n",
    "        if pattern.fullmatch(line[3]):\n",
    "            go_functions[protein][go_terms.index(line[3])] = 1"
   ]
  },
  {
   "cell_type": "code",
   "execution_count": null,
   "metadata": {
    "collapsed": true
   },
   "outputs": [],
   "source": [
    "# load interaction data from file, and seperate names from interactions\n",
    "\n",
    "interaction_file = '/home/shelby/PFI/9606_human_v2/InteractionData/Protein-Protein_Combined-Interactions.txt'\n",
    "\n",
    "with open(interaction_file, 'r') as data:\n",
    "    reader = csv.reader(data)\n",
    "    names = reader.__next__()\n",
    "    interaction_data = np.array([[np.int(k) for k in line[0].split(' ')] for line in reader],dtype = np.int16)\n",
    "del data, reader\n",
    "#print(interaction_data)"
   ]
  },
  {
   "cell_type": "code",
   "execution_count": null,
   "metadata": {},
   "outputs": [],
   "source": [
    "print(interaction_data.sum()+interaction_data.shape[0]**2)"
   ]
  },
  {
   "cell_type": "code",
   "execution_count": null,
   "metadata": {},
   "outputs": [],
   "source": [
    "# makes an array (labels) which is in the order of the interaction data, and contains binary go function labels\n",
    "\n",
    "#labels = []\n",
    "count = 0\n",
    "not_found = (np.zeros(shape=len(go_terms))-1).astype(int)\n",
    "print(not_found)\n",
    "labels = np.empty((len(names),len(go_terms)), dtype = np.int8)\n",
    "for i in range(len(names)):\n",
    "    name = names[i]\n",
    "    labels[i,:] = go_functions.get(name, not_found)\n",
    "    #if label==not_found:\n",
    "    #    print(name)\n",
    "    #    count+=1\n",
    "\n",
    "\n",
    "#print(count)"
   ]
  },
  {
   "cell_type": "code",
   "execution_count": null,
   "metadata": {
    "collapsed": true
   },
   "outputs": [],
   "source": []
  },
  {
   "cell_type": "code",
   "execution_count": null,
   "metadata": {},
   "outputs": [],
   "source": [
    "labels[0:100]"
   ]
  },
  {
   "cell_type": "code",
   "execution_count": null,
   "metadata": {
    "scrolled": true
   },
   "outputs": [],
   "source": [
    "labels.shape # prepare data for wrighting out\n",
    "\n",
    "#labels = np.asarray(labels).astype(int)\n",
    "#print(labels.shape)"
   ]
  },
  {
   "cell_type": "code",
   "execution_count": null,
   "metadata": {
    "scrolled": true
   },
   "outputs": [],
   "source": [
    "# prepare data for wrighting out\n",
    "\n",
    "#interactions = np.asarray([line[0].split(' ') for line in interaction_data]).astype(int)\n",
    "print(interaction_data.shape)"
   ]
  },
  {
   "cell_type": "code",
   "execution_count": null,
   "metadata": {
    "collapsed": true
   },
   "outputs": [],
   "source": [
    "# write data\n",
    "np.save('data/interactions.npy', interaction_data)\n",
    "np.save('data/labels.npy', labels)# this data goes out for usage in model, seperate metadata is needed for tensorboard visualization."
   ]
  },
  {
   "cell_type": "code",
   "execution_count": null,
   "metadata": {},
   "outputs": [],
   "source": [
    "# make metadata\n",
    "\n",
    "metadata = 'name\\tfunction\\n' # row1 is names, row2 is function. tb will coorelate names and functions by order in this list\n",
    "# meaning that if the data is shuffled, the order will be messed up.\n",
    "\n",
    "for name in names:\n",
    "    metadata+=name+'\\t'+str(go_functions.get(name, not_found)[:2]).replace('\\n', ' ')+'\\n'\n",
    "\n",
    "with open('data/tensorboard_labels_short.tsv', 'w') as data:\n",
    "    data.write(metadata)\n",
    "print('success')"
   ]
  },
  {
   "cell_type": "code",
   "execution_count": null,
   "metadata": {},
   "outputs": [],
   "source": [
    "for name in names:\n",
    "    print(go_functions.get(name, not_found))"
   ]
  }
 ],
 "metadata": {
  "kernelspec": {
   "display_name": "Python 3",
   "language": "python",
   "name": "python3"
  },
  "language_info": {
   "codemirror_mode": {
    "name": "ipython",
    "version": 3
   },
   "file_extension": ".py",
   "mimetype": "text/x-python",
   "name": "python",
   "nbconvert_exporter": "python",
   "pygments_lexer": "ipython3",
   "version": "3.6.4"
  }
 },
 "nbformat": 4,
 "nbformat_minor": 2
}
