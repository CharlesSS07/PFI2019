{
 "cells": [
  {
   "cell_type": "code",
   "execution_count": 1,
   "metadata": {},
   "outputs": [],
   "source": [
    "import numpy as np\n",
    "from GO import GO\n",
    "from PPI import PPI\n",
    "from PathManager import PathManager as PM\n",
    "from ParamHandler import ParamHandler as PH"
   ]
  },
  {
   "cell_type": "code",
   "execution_count": 2,
   "metadata": {},
   "outputs": [
    {
     "name": "stdout",
     "output_type": "stream",
     "text": [
      "(19576, 19576) 19000 576\n"
     ]
    }
   ],
   "source": [
    "ph = PH()\n",
    "pm = PM(ph)\n",
    "go = GO(pm, ph)\n",
    "ppi = PPI(pm, ph)"
   ]
  },
  {
   "cell_type": "code",
   "execution_count": 3,
   "metadata": {},
   "outputs": [],
   "source": [
    "nn = np.random.uniform(0, 19576, size=19576*1000).astype(np.uint16)\n",
    "np.random.shuffle(nn)\n",
    "nn = np.reshape(nn, (19576, 1000))"
   ]
  },
  {
   "cell_type": "code",
   "execution_count": 4,
   "metadata": {},
   "outputs": [
    {
     "data": {
      "text/plain": [
       "(array([[18562, 16696, 15368, ...,   337, 12855,  5574],\n",
       "        [16853,  2313,  2775, ...,  6885, 15580, 15922],\n",
       "        [13435, 15032,  3325, ...,  5664,  1749,  9702],\n",
       "        ...,\n",
       "        [ 3622,  5243, 15104, ...,  3991,  2978,  1647],\n",
       "        [ 2280, 16676, 12206, ...,  6063, 15681, 17273],\n",
       "        [ 3131, 10145,  1449, ..., 13775, 11423, 13556]], dtype=uint16),\n",
       " (19576, 1000),\n",
       " 0)"
      ]
     },
     "execution_count": 4,
     "metadata": {},
     "output_type": "execute_result"
    }
   ],
   "source": [
    "nn, nn.shape, nn.min()"
   ]
  },
  {
   "cell_type": "code",
   "execution_count": 5,
   "metadata": {},
   "outputs": [
    {
     "data": {
      "text/plain": [
       "(1000,)"
      ]
     },
     "execution_count": 5,
     "metadata": {},
     "output_type": "execute_result"
    }
   ],
   "source": [
    "weights = 1.0/(np.arange(1000)+1)\n",
    "weights *= 1.0/(weights.sum()+1.0/1000)\n",
    "weights.shape"
   ]
  },
  {
   "cell_type": "code",
   "execution_count": 6,
   "metadata": {},
   "outputs": [],
   "source": [
    "weights = weights.astype(np.float64)\n",
    "go.data = go.data.astype(np.float64)"
   ]
  },
  {
   "cell_type": "code",
   "execution_count": 7,
   "metadata": {},
   "outputs": [
    {
     "data": {
      "text/plain": [
       "(dtype('float64'), dtype('float64'))"
      ]
     },
     "execution_count": 7,
     "metadata": {},
     "output_type": "execute_result"
    }
   ],
   "source": [
    "weights.dtype, go.data.dtype"
   ]
  },
  {
   "cell_type": "code",
   "execution_count": 8,
   "metadata": {},
   "outputs": [
    {
     "data": {
      "text/plain": [
       "(1000, 16322)"
      ]
     },
     "execution_count": 8,
     "metadata": {},
     "output_type": "execute_result"
    }
   ],
   "source": [
    "labeled = go.data[nn[177]]\n",
    "labeled.shape"
   ]
  },
  {
   "cell_type": "code",
   "execution_count": 9,
   "metadata": {
    "scrolled": true
   },
   "outputs": [
    {
     "name": "stdout",
     "output_type": "stream",
     "text": [
      "41.9 ms ± 275 µs per loop (mean ± std. dev. of 7 runs, 10 loops each)\n"
     ]
    }
   ],
   "source": [
    "%timeit go.data[nn[177]]"
   ]
  },
  {
   "cell_type": "code",
   "execution_count": 10,
   "metadata": {},
   "outputs": [
    {
     "name": "stdout",
     "output_type": "stream",
     "text": [
      "4.98 ms ± 38 µs per loop (mean ± std. dev. of 7 runs, 100 loops each)\n"
     ]
    }
   ],
   "source": [
    "%timeit np.dot(weights, labeled)"
   ]
  },
  {
   "cell_type": "code",
   "execution_count": 11,
   "metadata": {},
   "outputs": [
    {
     "name": "stdout",
     "output_type": "stream",
     "text": [
      "47.6 ms ± 670 µs per loop (mean ± std. dev. of 7 runs, 10 loops each)\n"
     ]
    }
   ],
   "source": [
    "%timeit np.dot(weights, go.data[nn[177]])"
   ]
  },
  {
   "cell_type": "code",
   "execution_count": 12,
   "metadata": {},
   "outputs": [
    {
     "name": "stdout",
     "output_type": "stream",
     "text": [
      "9.71 s ± 25.4 ms per loop (mean ± std. dev. of 7 runs, 1 loop each)\n"
     ]
    }
   ],
   "source": [
    "%timeit np.asarray([np.dot(weights, go.data[n]) for n in nn[:200]])"
   ]
  },
  {
   "cell_type": "code",
   "execution_count": 13,
   "metadata": {},
   "outputs": [],
   "source": [
    "go.data = go.data.astype(np.float32)\n",
    "weights = weights.astype(np.float32)"
   ]
  },
  {
   "cell_type": "code",
   "execution_count": 14,
   "metadata": {},
   "outputs": [
    {
     "data": {
      "text/plain": [
       "(dtype('float32'), dtype('float32'))"
      ]
     },
     "execution_count": 14,
     "metadata": {},
     "output_type": "execute_result"
    }
   ],
   "source": [
    "weights.dtype, go.data.dtype"
   ]
  },
  {
   "cell_type": "code",
   "execution_count": null,
   "metadata": {},
   "outputs": [],
   "source": []
  },
  {
   "cell_type": "code",
   "execution_count": 15,
   "metadata": {},
   "outputs": [
    {
     "name": "stdout",
     "output_type": "stream",
     "text": [
      "4.21 s ± 178 ms per loop (mean ± std. dev. of 7 runs, 1 loop each)\n"
     ]
    }
   ],
   "source": [
    "%timeit [go.data[nn[i]] for i in range(200)]"
   ]
  },
  {
   "cell_type": "code",
   "execution_count": 16,
   "metadata": {},
   "outputs": [
    {
     "name": "stdout",
     "output_type": "stream",
     "text": [
      "4.94 ms ± 63.4 µs per loop (mean ± std. dev. of 7 runs, 100 loops each)\n"
     ]
    }
   ],
   "source": [
    "%timeit np.dot(weights, labeled)"
   ]
  },
  {
   "cell_type": "code",
   "execution_count": 17,
   "metadata": {},
   "outputs": [
    {
     "name": "stdout",
     "output_type": "stream",
     "text": [
      "25.3 ms ± 169 µs per loop (mean ± std. dev. of 7 runs, 10 loops each)\n"
     ]
    }
   ],
   "source": [
    "%timeit np.dot(weights, go.data[nn[177]])"
   ]
  },
  {
   "cell_type": "code",
   "execution_count": 25,
   "metadata": {},
   "outputs": [
    {
     "name": "stdout",
     "output_type": "stream",
     "text": [
      "8.78 s ± 37.9 ms per loop (mean ± std. dev. of 7 runs, 1 loop each)\n",
      "4.47 s ± 105 ms per loop (mean ± std. dev. of 7 runs, 1 loop each)\n"
     ]
    }
   ],
   "source": [
    "import numba\n",
    "N=200\n",
    "ss = np.empty([N,go.data.shape[1]],dtype=np.float32)\n",
    "dg = (go.data.T)+np.float32(0.0)\n",
    "@numba.njit(parallel=True,fastmath=True)\n",
    "def foo (N,nn,w,gd,ss):\n",
    "    \n",
    "    for i in range(N):\n",
    "        ss[i] = np.dot(gd[:,nn[i]],w)\n",
    "%timeit (foo(200,nn,weights,dg,ss))       \n",
    "@numba.njit(parallel=True,fastmath=True)\n",
    "def foo2 (N,nn,w,gd,ss):\n",
    "    sm = np.empty(gd.shape[1],dtype=np.float32)\n",
    "    for i in range(N):\n",
    "        \n",
    "        tmp = gd[nn[i]]\n",
    "       # print (tmp.shape,type(tmp),type(tmp[0,0]))\n",
    "        for j in numba.prange(w.shape[0]):\n",
    "            sm+= w[j]*tmp[j]\n",
    "        ss[i] = sm.copy()       \n",
    "    \n",
    "%timeit (foo2(200,nn,weights,go.data,ss))"
   ]
  },
  {
   "cell_type": "code",
   "execution_count": 19,
   "metadata": {},
   "outputs": [
    {
     "name": "stdout",
     "output_type": "stream",
     "text": [
      "4.54 s ± 17.5 ms per loop (mean ± std. dev. of 7 runs, 1 loop each)\n"
     ]
    }
   ],
   "source": [
    "\n",
    "@numba.jit()\n",
    "def foo (N,nn,w,gd):\n",
    "    ss = np.empty([N,gd.shape[1]],dtype=np.float32)\n",
    "    for i in range(N):\n",
    "        ss[i] = np.dot(w,gd[nn[i]])\n",
    "    return ss\n",
    "%timeit (foo(200,nn,weights,go.data))"
   ]
  },
  {
   "cell_type": "code",
   "execution_count": 20,
   "metadata": {},
   "outputs": [
    {
     "name": "stdout",
     "output_type": "stream",
     "text": [
      "5.05 s ± 100 ms per loop (mean ± std. dev. of 7 runs, 1 loop each)\n"
     ]
    }
   ],
   "source": [
    "%timeit np.asarray([np.dot(weights, go.data[n]) for n in nn[:200]])"
   ]
  },
  {
   "cell_type": "code",
   "execution_count": 21,
   "metadata": {},
   "outputs": [
    {
     "name": "stdout",
     "output_type": "stream",
     "text": [
      "5.04 s ± 24.3 ms per loop (mean ± std. dev. of 7 runs, 1 loop each)\n"
     ]
    }
   ],
   "source": [
    "preds = np.zeros(shape=(ppi.data.shape[0], go.data.shape[1]), dtype=np.float32)\n",
    "def predict():\n",
    "    for i in range(200):\n",
    "        preds[i]+= np.dot(weights, go.data[nn[i]])\n",
    "%timeit predict()"
   ]
  },
  {
   "cell_type": "code",
   "execution_count": 22,
   "metadata": {},
   "outputs": [
    {
     "name": "stdout",
     "output_type": "stream",
     "text": [
      "5.05 s ± 34.2 ms per loop (mean ± std. dev. of 7 runs, 1 loop each)\n"
     ]
    }
   ],
   "source": [
    "preds = np.zeros(shape=(ppi.data.shape[0], go.data.shape[1]), dtype=np.float32)\n",
    "def predict():\n",
    "    for i in range(200):\n",
    "        preds[i] = np.dot(weights, go.data[nn[i]])\n",
    "%timeit predict()"
   ]
  },
  {
   "cell_type": "code",
   "execution_count": 26,
   "metadata": {},
   "outputs": [
    {
     "name": "stdout",
     "output_type": "stream",
     "text": [
      "4.93 s ± 60.4 ms per loop (mean ± std. dev. of 7 runs, 1 loop each)\n"
     ]
    }
   ],
   "source": [
    "%timeit np.asarray([np.dot(weights, go.data[n]) for n in nn[:200]])"
   ]
  },
  {
   "cell_type": "code",
   "execution_count": 27,
   "metadata": {},
   "outputs": [
    {
     "name": "stdout",
     "output_type": "stream",
     "text": [
      "7min 45s ± 385 ms per loop (mean ± std. dev. of 7 runs, 1 loop each)\n"
     ]
    }
   ],
   "source": [
    "%timeit np.asarray([np.dot(weights, go.data[n]) for n in nn])"
   ]
  },
  {
   "cell_type": "code",
   "execution_count": null,
   "metadata": {},
   "outputs": [],
   "source": [
    "print(preds.dtype, weights.dtype, go.data.dtype)"
   ]
  }
 ],
 "metadata": {
  "kernelspec": {
   "display_name": "Python 3",
   "language": "python",
   "name": "python3"
  },
  "language_info": {
   "codemirror_mode": {
    "name": "ipython",
    "version": 3
   },
   "file_extension": ".py",
   "mimetype": "text/x-python",
   "name": "python",
   "nbconvert_exporter": "python",
   "pygments_lexer": "ipython3",
   "version": "3.6.4"
  }
 },
 "nbformat": 4,
 "nbformat_minor": 2
}
