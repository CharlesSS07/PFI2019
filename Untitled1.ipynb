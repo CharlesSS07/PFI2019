{
 "cells": [
  {
   "cell_type": "code",
   "execution_count": 1,
   "metadata": {},
   "outputs": [],
   "source": [
    "import numpy as np\n",
    "from GO import GO\n",
    "from PPI import PPI\n",
    "from PathManager import PathManager as PM\n",
    "from ParamHandler import ParamHandler as PH\n",
    "from KNN import KNN\n",
    "from Metrics import *"
   ]
  },
  {
   "cell_type": "code",
   "execution_count": 2,
   "metadata": {},
   "outputs": [
    {
     "name": "stdout",
     "output_type": "stream",
     "text": [
      "folderformat\t %B/%d/%H_%M/\n",
      "modeldir\t models/May/04/14_03/\n",
      "modelpath\t models/May/04/14_03/model/model.ckpt\n",
      "ourputdir\t models/May/04/14_03/output\n",
      "logpath\t models/May/04/14_03/output/log.tsv\n",
      "ppipath\t data/PPI_normalized_3.npy\n",
      "proteinorder\t data/PPI-Order.npy\n",
      "functionorder\t data/Function-Order.npy\n",
      "gopath\t data/GO.npy\n",
      "cancerfunctionspath\t data/CancerFunctions.npy\n",
      "metadatapath\t ../../../../../data/tensorboard_labels_short.tsv\n",
      "npseed-InteractionData\t 0\n",
      "batchsize-InteractionData\t 50\n"
     ]
    }
   ],
   "source": [
    "ph = PH()\n",
    "ph.load()\n",
    "\n",
    "pm = PM(ph)\n",
    "go = GO(pm, ph)\n",
    "ppi = PPI(pm, ph)"
   ]
  },
  {
   "cell_type": "code",
   "execution_count": 3,
   "metadata": {},
   "outputs": [
    {
     "name": "stdout",
     "output_type": "stream",
     "text": [
      "19576\n",
      "npseed-AE\t 1\n",
      "learnrate-AE\t 0.001\n",
      "rescalelayerdorescale-AE\t True\n",
      "inputlayersize-AE\t 4000\n",
      "inputlayerdobatchnorm-AE\t False\n",
      "latentlayersize-AE\t 2000\n",
      "latentlayerdobatchnorm-AE\t False\n",
      "hiddenlayersize-AE\t 4000\n",
      "hiddenlayerdobatchnorm-AE\t False\n",
      "outputlayerdobatchnorm-AE\t False\n",
      "optimizer-AE\t SCE\n",
      "Epoch: 0 0.07332498\n",
      "epochs-AE\t 5\n",
      "Epoch: 1 0.004493491\n",
      "Epoch: 2 9.8683835e-05\n",
      "Epoch: 3 9.6521406e-05\n",
      "Epoch: 4 9.590223e-05\n",
      "Epoch: 5 9.553217e-05\n",
      "postnormalization-AE\t False\n"
     ]
    }
   ],
   "source": [
    "#!/home/shelby/.conda/envs/tensorflowgpu/bin/python\n",
    "\n",
    "\n",
    "from AE import AE\n",
    "print(ppi.batch_length)\n",
    "ae = AE(pm, ph, ppi)\n",
    "ae.train()\n",
    "ae.save()\n",
    "c = ae.compress()\n",
    "ae.pca_summary(c, 'latent')\n"
   ]
  },
  {
   "cell_type": "code",
   "execution_count": 4,
   "metadata": {},
   "outputs": [
    {
     "name": "stdout",
     "output_type": "stream",
     "text": [
      "postnormalization-AE\t False\n"
     ]
    }
   ],
   "source": [
    "#c = np.random.uniform(0, 1, size=(19576, 1000))\n",
    "c = ae.compress()\n",
    "#c"
   ]
  },
  {
   "cell_type": "code",
   "execution_count": 5,
   "metadata": {},
   "outputs": [
    {
     "data": {
      "text/plain": [
       "(0, 39152000)"
      ]
     },
     "execution_count": 5,
     "metadata": {},
     "output_type": "execute_result"
    }
   ],
   "source": [
    "(c<0.5).sum(), (c>0.5).sum()"
   ]
  },
  {
   "cell_type": "code",
   "execution_count": 6,
   "metadata": {},
   "outputs": [
    {
     "data": {
      "text/plain": [
       "(19576, 16322)"
      ]
     },
     "execution_count": 6,
     "metadata": {},
     "output_type": "execute_result"
    }
   ],
   "source": [
    "go.data.shape"
   ]
  },
  {
   "cell_type": "code",
   "execution_count": 7,
   "metadata": {},
   "outputs": [
    {
     "data": {
      "text/plain": [
       "(19576,)"
      ]
     },
     "execution_count": 7,
     "metadata": {},
     "output_type": "execute_result"
    }
   ],
   "source": [
    "go.get_function('GO:0005575').shape"
   ]
  },
  {
   "cell_type": "code",
   "execution_count": 24,
   "metadata": {},
   "outputs": [
    {
     "data": {
      "text/plain": [
       "array([1., 1., 1., ..., 1., 1., 1.], dtype=float32)"
      ]
     },
     "execution_count": 24,
     "metadata": {},
     "output_type": "execute_result"
    }
   ],
   "source": [
    "from sklearn import svm\n",
    "def predict(c, func='GO:0005575'):\n",
    "    try:\n",
    "        l = go.get_function(func)\n",
    "        n = np.floor(l.sum()/2).astype(np.int16)\n",
    "        a = np.argsort(l)\n",
    "        b = [*a[:200], *a[len(a)-n:]]\n",
    "        X = c[b]\n",
    "        Y = l[b]\n",
    "        clf = svm.SVC(gamma='scale', decision_function_shape='ovo')\n",
    "        clf.fit(X, Y)\n",
    "        return clf.predict(c)\n",
    "    except ValueError:\n",
    "        print('Value Error')\n",
    "        return np.zeros(shape=19576) # hardcoded for speed\n",
    "predict(c)"
   ]
  },
  {
   "cell_type": "code",
   "execution_count": null,
   "metadata": {},
   "outputs": [],
   "source": [
    "#clf.predict(c).sum()"
   ]
  },
  {
   "cell_type": "code",
   "execution_count": 25,
   "metadata": {},
   "outputs": [
    {
     "data": {
      "text/plain": [
       "182.0"
      ]
     },
     "execution_count": 25,
     "metadata": {},
     "output_type": "execute_result"
    }
   ],
   "source": [
    "go.get_function('GO:0005575')[:300].sum()"
   ]
  },
  {
   "cell_type": "code",
   "execution_count": 26,
   "metadata": {},
   "outputs": [],
   "source": [
    "from sklearn.metrics import precision_recall_fscore_support, auc, roc_curve, confusion_matrix\n",
    "import pylab as pl"
   ]
  },
  {
   "cell_type": "code",
   "execution_count": 27,
   "metadata": {
    "scrolled": true
   },
   "outputs": [
    {
     "data": {
      "image/png": "[encoded data removed]",
      "text/plain": [
       "<matplotlib.figure.Figure at 0x7fdaa8459be0>"
      ]
     },
     "metadata": {
      "needs_background": "light"
     },
     "output_type": "display_data"
    }
   ],
   "source": [
    "\n",
    "pl.figure()\n",
    "for i, f in enumerate(go.CancerFunctions):\n",
    "    \n",
    "    Y = predict(c, f)\n",
    "    F = go.get_function(f)\n",
    "    \n",
    "    prfs = precision_recall_fscore_support(F.astype(np.int8), Y, labels=[0, 1])\n",
    "    \n",
    "    pl.plot(F.sum(), prfs[1][0], 'bo')\n",
    "    pl.plot(F.sum(), prfs[1][1], 'ro')\n",
    "    #print(i)\n",
    "#pl.legend()\n",
    "pl.show()\n",
    "pl.close()\n",
    "#print(Y.shape, Y, Y.sum())\n",
    "#met = MetricGrapher(pm, ph, Y, go)\n",
    "#met.new_metric(Metric.Function('posP'), Metric.Function('posR'), label='PR on positives.')\n",
    "#met.new_metric(Metric.Function('negP'), Metric.Function('negR'), label='PR on negatives.')\n",
    "#met.new_metric(Metric.Function('tpr'), Metric.Function('fpr'), label='ROC')\n",
    "#met.axies = ['Recall', 'Precision']\n",
    "#met.initialize_metrics()\n",
    "#met.make_graphs(show=True)\n",
    "#ph.save()"
   ]
  },
  {
   "cell_type": "code",
   "execution_count": 28,
   "metadata": {
    "scrolled": true
   },
   "outputs": [
    {
     "ename": "KeyboardInterrupt",
     "evalue": "",
     "output_type": "error",
     "traceback": [
      "\u001b[0;31m------------------------------------------------------------------\u001b[0m",
      "\u001b[0;31mKeyboardInterrupt\u001b[0m                Traceback (most recent call last)",
      "\u001b[0;32m<ipython-input-28-12bad1a90636>\u001b[0m in \u001b[0;36m<module>\u001b[0;34m()\u001b[0m\n\u001b[1;32m      2\u001b[0m \u001b[0;32mfor\u001b[0m \u001b[0mi\u001b[0m\u001b[0;34m,\u001b[0m \u001b[0mf\u001b[0m \u001b[0;32min\u001b[0m \u001b[0menumerate\u001b[0m\u001b[0;34m(\u001b[0m\u001b[0mgo\u001b[0m\u001b[0;34m.\u001b[0m\u001b[0mCancerFunctions\u001b[0m\u001b[0;34m)\u001b[0m\u001b[0;34m:\u001b[0m\u001b[0;34m\u001b[0m\u001b[0m\n\u001b[1;32m      3\u001b[0m \u001b[0;34m\u001b[0m\u001b[0m\n\u001b[0;32m----> 4\u001b[0;31m     \u001b[0mY\u001b[0m \u001b[0;34m=\u001b[0m \u001b[0mpredict\u001b[0m\u001b[0;34m(\u001b[0m\u001b[0mc\u001b[0m\u001b[0;34m,\u001b[0m \u001b[0mf\u001b[0m\u001b[0;34m)\u001b[0m\u001b[0;34m\u001b[0m\u001b[0m\n\u001b[0m\u001b[1;32m      5\u001b[0m     \u001b[0mF\u001b[0m \u001b[0;34m=\u001b[0m \u001b[0mgo\u001b[0m\u001b[0;34m.\u001b[0m\u001b[0mget_function\u001b[0m\u001b[0;34m(\u001b[0m\u001b[0mf\u001b[0m\u001b[0;34m)\u001b[0m\u001b[0;34m\u001b[0m\u001b[0m\n\u001b[1;32m      6\u001b[0m \u001b[0;34m\u001b[0m\u001b[0m\n",
      "\u001b[0;32m<ipython-input-24-1f5342a99288>\u001b[0m in \u001b[0;36mpredict\u001b[0;34m(c, func)\u001b[0m\n\u001b[1;32m      9\u001b[0m         \u001b[0mY\u001b[0m \u001b[0;34m=\u001b[0m \u001b[0ml\u001b[0m\u001b[0;34m[\u001b[0m\u001b[0mb\u001b[0m\u001b[0;34m]\u001b[0m\u001b[0;34m\u001b[0m\u001b[0m\n\u001b[1;32m     10\u001b[0m         \u001b[0mclf\u001b[0m \u001b[0;34m=\u001b[0m \u001b[0msvm\u001b[0m\u001b[0;34m.\u001b[0m\u001b[0mSVC\u001b[0m\u001b[0;34m(\u001b[0m\u001b[0mgamma\u001b[0m\u001b[0;34m=\u001b[0m\u001b[0;34m'scale'\u001b[0m\u001b[0;34m,\u001b[0m \u001b[0mdecision_function_shape\u001b[0m\u001b[0;34m=\u001b[0m\u001b[0;34m'ovo'\u001b[0m\u001b[0;34m)\u001b[0m\u001b[0;34m\u001b[0m\u001b[0m\n\u001b[0;32m---> 11\u001b[0;31m         \u001b[0mclf\u001b[0m\u001b[0;34m.\u001b[0m\u001b[0mfit\u001b[0m\u001b[0;34m(\u001b[0m\u001b[0mX\u001b[0m\u001b[0;34m,\u001b[0m \u001b[0mY\u001b[0m\u001b[0;34m)\u001b[0m\u001b[0;34m\u001b[0m\u001b[0m\n\u001b[0m\u001b[1;32m     12\u001b[0m         \u001b[0;32mreturn\u001b[0m \u001b[0mclf\u001b[0m\u001b[0;34m.\u001b[0m\u001b[0mpredict\u001b[0m\u001b[0;34m(\u001b[0m\u001b[0mc\u001b[0m\u001b[0;34m)\u001b[0m\u001b[0;34m\u001b[0m\u001b[0m\n\u001b[1;32m     13\u001b[0m     \u001b[0;32mexcept\u001b[0m \u001b[0mValueError\u001b[0m\u001b[0;34m:\u001b[0m\u001b[0;34m\u001b[0m\u001b[0m\n",
      "\u001b[0;32m~/.conda/envs/tensorflowgpu/lib/python3.6/site-packages/sklearn/svm/base.py\u001b[0m in \u001b[0;36mfit\u001b[0;34m(self, X, y, sample_weight)\u001b[0m\n\u001b[1;32m    210\u001b[0m \u001b[0;34m\u001b[0m\u001b[0m\n\u001b[1;32m    211\u001b[0m         \u001b[0mseed\u001b[0m \u001b[0;34m=\u001b[0m \u001b[0mrnd\u001b[0m\u001b[0;34m.\u001b[0m\u001b[0mrandint\u001b[0m\u001b[0;34m(\u001b[0m\u001b[0mnp\u001b[0m\u001b[0;34m.\u001b[0m\u001b[0miinfo\u001b[0m\u001b[0;34m(\u001b[0m\u001b[0;34m'i'\u001b[0m\u001b[0;34m)\u001b[0m\u001b[0;34m.\u001b[0m\u001b[0mmax\u001b[0m\u001b[0;34m)\u001b[0m\u001b[0;34m\u001b[0m\u001b[0m\n\u001b[0;32m--> 212\u001b[0;31m         \u001b[0mfit\u001b[0m\u001b[0;34m(\u001b[0m\u001b[0mX\u001b[0m\u001b[0;34m,\u001b[0m \u001b[0my\u001b[0m\u001b[0;34m,\u001b[0m \u001b[0msample_weight\u001b[0m\u001b[0;34m,\u001b[0m \u001b[0msolver_type\u001b[0m\u001b[0;34m,\u001b[0m \u001b[0mkernel\u001b[0m\u001b[0;34m,\u001b[0m \u001b[0mrandom_seed\u001b[0m\u001b[0;34m=\u001b[0m\u001b[0mseed\u001b[0m\u001b[0;34m)\u001b[0m\u001b[0;34m\u001b[0m\u001b[0m\n\u001b[0m\u001b[1;32m    213\u001b[0m         \u001b[0;31m# see comment on the other call to np.iinfo in this file\u001b[0m\u001b[0;34m\u001b[0m\u001b[0;34m\u001b[0m\u001b[0m\n\u001b[1;32m    214\u001b[0m \u001b[0;34m\u001b[0m\u001b[0m\n",
      "\u001b[0;32m~/.conda/envs/tensorflowgpu/lib/python3.6/site-packages/sklearn/svm/base.py\u001b[0m in \u001b[0;36m_dense_fit\u001b[0;34m(self, X, y, sample_weight, solver_type, kernel, random_seed)\u001b[0m\n\u001b[1;32m    269\u001b[0m                 \u001b[0mcache_size\u001b[0m\u001b[0;34m=\u001b[0m\u001b[0mself\u001b[0m\u001b[0;34m.\u001b[0m\u001b[0mcache_size\u001b[0m\u001b[0;34m,\u001b[0m \u001b[0mcoef0\u001b[0m\u001b[0;34m=\u001b[0m\u001b[0mself\u001b[0m\u001b[0;34m.\u001b[0m\u001b[0mcoef0\u001b[0m\u001b[0;34m,\u001b[0m\u001b[0;34m\u001b[0m\u001b[0m\n\u001b[1;32m    270\u001b[0m                 \u001b[0mgamma\u001b[0m\u001b[0;34m=\u001b[0m\u001b[0mself\u001b[0m\u001b[0;34m.\u001b[0m\u001b[0m_gamma\u001b[0m\u001b[0;34m,\u001b[0m \u001b[0mepsilon\u001b[0m\u001b[0;34m=\u001b[0m\u001b[0mself\u001b[0m\u001b[0;34m.\u001b[0m\u001b[0mepsilon\u001b[0m\u001b[0;34m,\u001b[0m\u001b[0;34m\u001b[0m\u001b[0m\n\u001b[0;32m--> 271\u001b[0;31m                 max_iter=self.max_iter, random_seed=random_seed)\n\u001b[0m\u001b[1;32m    272\u001b[0m \u001b[0;34m\u001b[0m\u001b[0m\n\u001b[1;32m    273\u001b[0m         \u001b[0mself\u001b[0m\u001b[0;34m.\u001b[0m\u001b[0m_warn_from_fit_status\u001b[0m\u001b[0;34m(\u001b[0m\u001b[0;34m)\u001b[0m\u001b[0;34m\u001b[0m\u001b[0m\n",
      "\u001b[0;31mKeyboardInterrupt\u001b[0m: "
     ]
    },
    {
     "data": {
      "image/png": "[encoded data removed]",
      "text/plain": [
       "<matplotlib.figure.Figure at 0x7fdaa84597f0>"
      ]
     },
     "metadata": {
      "needs_background": "light"
     },
     "output_type": "display_data"
    }
   ],
   "source": [
    "pl.figure()\n",
    "for i, f in enumerate(go.CancerFunctions):\n",
    "    \n",
    "    Y = predict(c, f)\n",
    "    F = go.get_function(f)\n",
    "    \n",
    "    prfs = precision_recall_fscore_support(F.astype(np.int8), Y, labels=[0, 1])\n",
    "    \n",
    "    pl.plot(F.sum(), prfs[0][0], 'bo')\n",
    "    pl.plot(F.sum(), prfs[1][0], 'ro')\n",
    "#pl.legend()\n",
    "pl.show()\n",
    "pl.close()"
   ]
  },
  {
   "cell_type": "code",
   "execution_count": null,
   "metadata": {},
   "outputs": [],
   "source": [
    "pl.figure()\n",
    "for i, f in enumerate(go.CancerFunctions):\n",
    "    \n",
    "    Y = predict(c, f)\n",
    "    F = go.get_function(f)\n",
    "    \n",
    "    prfs = precision_recall_fscore_support(F.astype(np.int8), Y, labels=[0, 1])\n",
    "    \n",
    "    pl.plot(F.sum(), prfs[0][0], 'bo')\n",
    "    pl.plot(F.sum(), prfs[0][1], 'ro')\n",
    "#pl.legend()\n",
    "pl.show()\n",
    "pl.close()"
   ]
  }
 ],
 "metadata": {
  "kernelspec": {
   "display_name": "Python 3",
   "language": "python",
   "name": "python3"
  },
  "language_info": {
   "codemirror_mode": {
    "name": "ipython",
    "version": 3
   },
   "file_extension": ".py",
   "mimetype": "text/x-python",
   "name": "python",
   "nbconvert_exporter": "python",
   "pygments_lexer": "ipython3",
   "version": "3.6.4"
  }
 },
 "nbformat": 4,
 "nbformat_minor": 2
}
