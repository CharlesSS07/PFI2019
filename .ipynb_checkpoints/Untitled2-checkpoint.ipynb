{
 "cells": [
  {
   "cell_type": "code",
   "execution_count": 1,
   "metadata": {},
   "outputs": [],
   "source": [
    "from Log import Log\n",
    "from PathManager import PathManager as PM\n",
    "from ParamHandler import ParamHandler as PH"
   ]
  },
  {
   "cell_type": "code",
   "execution_count": 2,
   "metadata": {},
   "outputs": [
    {
     "name": "stdout",
     "output_type": "stream",
     "text": [
      "folderformat\t %B/%d/%H_%M/\n",
      "modeldir\t models/March/28/15_46/\n",
      "modelpath\t models/March/28/15_46/model/model.ckpt\n",
      "ourputdir\t models/March/28/15_46/output\n",
      "logpath\t models/March/28/15_46/output/log.tsv\n",
      "ppipath\t data/PPI_normalized_3.npy\n",
      "proteinorder\t data/PPI-Order.npy\n",
      "functionorder\t data/Function-Order.npy\n",
      "gopath\t data/GO.npy\n",
      "cancerfunctionspath\t data/CancerFunctions.npy\n",
      "metadatapath\t ../../../../../data/tensorboard_labels_short.tsv\n"
     ]
    }
   ],
   "source": [
    "ph = PH()\n",
    "pm = PM(ph)"
   ]
  },
  {
   "cell_type": "code",
   "execution_count": 3,
   "metadata": {},
   "outputs": [],
   "source": [
    "l = Log(pm)"
   ]
  },
  {
   "cell_type": "code",
   "execution_count": 4,
   "metadata": {},
   "outputs": [],
   "source": [
    "l.append(['function', '34', 56])\n",
    "l.append(['funct', 3, '52'])"
   ]
  },
  {
   "cell_type": "code",
   "execution_count": null,
   "metadata": {},
   "outputs": [],
   "source": []
  },
  {
   "cell_type": "code",
   "execution_count": 5,
   "metadata": {},
   "outputs": [],
   "source": [
    "#del l"
   ]
  }
 ],
 "metadata": {
  "kernelspec": {
   "display_name": "Python 3",
   "language": "python",
   "name": "python3"
  },
  "language_info": {
   "codemirror_mode": {
    "name": "ipython",
    "version": 3
   },
   "file_extension": ".py",
   "mimetype": "text/x-python",
   "name": "python",
   "nbconvert_exporter": "python",
   "pygments_lexer": "ipython3",
   "version": "3.6.4"
  }
 },
 "nbformat": 4,
 "nbformat_minor": 2
}
