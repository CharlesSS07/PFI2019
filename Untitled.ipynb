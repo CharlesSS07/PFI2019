{
 "cells": [
  {
   "cell_type": "code",
   "execution_count": 1,
   "metadata": {},
   "outputs": [],
   "source": [
    "import numpy as np\n",
    "from GO import GO\n",
    "from PPI import PPI\n",
    "from PathManager import PathManager as PM\n",
    "from ParamHandler import ParamHandler as PH\n",
    "from AE import AE\n",
    "from KNN import KNN\n",
    "from Metrics import *\n",
    "#import tensorflow as tf"
   ]
  },
  {
   "cell_type": "code",
   "execution_count": 2,
   "metadata": {},
   "outputs": [
    {
     "name": "stderr",
     "output_type": "stream",
     "text": [
      "/mnt/65414e4a-d6f3-4721-bc9a-239d8967bbc6/scifair2019/9606_human_git/PFI2019/ParamHandler.py:39: UnsafeLoaderWarning: \n",
      "The default 'Loader' for 'load(stream)' without further arguments can be unsafe.\n",
      "Use 'load(stream, Loader=ruamel.yaml.Loader)' explicitly if that is OK.\n",
      "Alternatively include the following in your code:\n",
      "\n",
      "  import warnings\n",
      "  warnings.simplefilter('ignore', ruamel.yaml.error.UnsafeLoaderWarning)\n",
      "\n",
      "In most other cases you should consider using 'safe_load(stream)'\n",
      "  self.magic_vals = yaml.load(f)\n"
     ]
    },
    {
     "name": "stdout",
     "output_type": "stream",
     "text": [
      "folderformat\t %B/%d/%H_%M/\n",
      "modeldir\t models/March/29/15_27/\n",
      "modelpath\t models/March/29/15_27/model/model.ckpt\n",
      "ourputdir\t models/March/29/15_27/output\n",
      "logpath\t models/March/29/15_27/output/log.tsv\n",
      "ppipath\t data/PPI_normalized_3.npy\n",
      "proteinorder\t data/PPI-Order.npy\n",
      "functionorder\t data/Function-Order.npy\n",
      "gopath\t data/GO.npy\n",
      "cancerfunctionspath\t data/CancerFunctions.npy\n",
      "metadatapath\t ../../../../../data/tensorboard_labels_short.tsv\n",
      "npseed-InteractionData\t 0\n",
      "batchsize-InteractionData\t 100\n",
      "npseed-AE\t 1\n",
      "learnrate-AE\t 0.01\n",
      "rescalelayerdorescale-AE\t True\n",
      "inputlayersize-AE\t 4000\n",
      "inputlayerdobatchnorm-AE\t False\n",
      "latentlayersize-AE\t 1000\n",
      "latentlayerdobatchnorm-AE\t False\n",
      "hiddenlayersize-AE\t 4000\n",
      "hiddenlayerdobatchnorm-AE\t False\n",
      "outputlayerdobatchnorm-AE\t False\n",
      "optimizer-AE\t SCE\n"
     ]
    }
   ],
   "source": [
    "ph = PH(file='params/params_2.yaml')\n",
    "ph.load()\n",
    "pm = PM(ph)\n",
    "go = GO(pm, ph)\n",
    "ppi = PPI(pm, ph, batch_size=200)\n",
    "ae = AE(pm, ph, ppi, learn_rate=0.0001)"
   ]
  },
  {
   "cell_type": "code",
   "execution_count": null,
   "metadata": {
    "scrolled": true
   },
   "outputs": [
    {
     "name": "stdout",
     "output_type": "stream",
     "text": [
      "Epoch: 0 0.07331829\n",
      "epochs-AE\t 50\n",
      "Epoch: 1 8.630177e-05\n",
      "Epoch: 2 8.604138e-05\n",
      "Epoch: 3 8.578398e-05\n",
      "Epoch: 4 8.553892e-05\n",
      "Epoch: 5 8.530555e-05\n",
      "Epoch: 6 8.5101114e-05\n",
      "Epoch: 7 8.491951e-05\n",
      "Epoch: 8 8.477093e-05\n",
      "Epoch: 9 8.467109e-05\n",
      "Epoch: 10 8.4640276e-05\n",
      "Epoch: 11 8.463927e-05\n",
      "Epoch: 12 8.463811e-05\n",
      "Epoch: 13 8.4637235e-05\n",
      "Epoch: 14 8.463624e-05\n",
      "Epoch: 15 8.4634965e-05\n",
      "Epoch: 16 8.463359e-05\n"
     ]
    }
   ],
   "source": [
    "#ppi.pca()\n",
    "ae.train(epochs=100)"
   ]
  },
  {
   "cell_type": "code",
   "execution_count": null,
   "metadata": {},
   "outputs": [],
   "source": [
    "c = ae.compress()"
   ]
  },
  {
   "cell_type": "code",
   "execution_count": null,
   "metadata": {},
   "outputs": [],
   "source": [
    "c.shape"
   ]
  },
  {
   "cell_type": "code",
   "execution_count": null,
   "metadata": {},
   "outputs": [],
   "source": [
    "if ph.get('postnormalization', True):\n",
    "    c = (c[:,0]-c[:,0].mean(axis=0))/np.std(c[:,0], axis=0)"
   ]
  },
  {
   "cell_type": "code",
   "execution_count": null,
   "metadata": {},
   "outputs": [],
   "source": [
    "ae.save()"
   ]
  },
  {
   "cell_type": "code",
   "execution_count": null,
   "metadata": {},
   "outputs": [],
   "source": [
    "knn = KNN(pm, ph, go, c, neighbor_count=10)"
   ]
  },
  {
   "cell_type": "code",
   "execution_count": null,
   "metadata": {
    "scrolled": true
   },
   "outputs": [],
   "source": [
    "Y = knn.predict()"
   ]
  },
  {
   "cell_type": "code",
   "execution_count": null,
   "metadata": {},
   "outputs": [],
   "source": []
  },
  {
   "cell_type": "code",
   "execution_count": null,
   "metadata": {},
   "outputs": [],
   "source": [
    "met = MetricGrapher(pm, ph, Y, go)\n",
    "met.new_metric(Metric.Function('posP'), Metric.Function('posR'))\n",
    "met.new_metric(Metric.Function('negP'), Metric.Function('negR'))\n",
    "met.axies = ['Recall', 'Precision']\n",
    "met.initialize_metrics()\n",
    "met.make_graphs(show=True)"
   ]
  },
  {
   "cell_type": "code",
   "execution_count": null,
   "metadata": {
    "scrolled": true
   },
   "outputs": [],
   "source": [
    "met = MetricGrapher(pm, ph, Y, go)\n",
    "met.new_metric(Metric.Function('fpr'), Metric.Function('tpr'))\n",
    "met.axies = ['Recall', 'Precision']\n",
    "met.initialize_metrics()\n",
    "met.make_graphs(show=True)"
   ]
  },
  {
   "cell_type": "code",
   "execution_count": null,
   "metadata": {},
   "outputs": [],
   "source": [
    "ppi.data.shape"
   ]
  },
  {
   "cell_type": "code",
   "execution_count": null,
   "metadata": {
    "scrolled": true
   },
   "outputs": [],
   "source": [
    "met.thresholds.max(), met.thresholds.min()"
   ]
  },
  {
   "cell_type": "code",
   "execution_count": null,
   "metadata": {},
   "outputs": [],
   "source": [
    "ph.save()"
   ]
  }
 ],
 "metadata": {
  "kernelspec": {
   "display_name": "Python 3",
   "language": "python",
   "name": "python3"
  },
  "language_info": {
   "codemirror_mode": {
    "name": "ipython",
    "version": 3
   },
   "file_extension": ".py",
   "mimetype": "text/x-python",
   "name": "python",
   "nbconvert_exporter": "python",
   "pygments_lexer": "ipython3",
   "version": "3.6.4"
  }
 },
 "nbformat": 4,
 "nbformat_minor": 2
}
