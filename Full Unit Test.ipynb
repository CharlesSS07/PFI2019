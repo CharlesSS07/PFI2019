{
 "cells": [
  {
   "cell_type": "code",
   "execution_count": null,
   "metadata": {},
   "outputs": [],
   "source": [
    "import numpy as np\n",
    "from GO import GO\n",
    "from PPI import PPI\n",
    "from PathManager import PathManager as PM\n",
    "from ParamHandler import ParamHandler as PH\n",
    "from AE import AE\n",
    "from KNN import KNN\n",
    "from Metrics import *\n",
    "#import tensorflow as tf"
   ]
  },
  {
   "cell_type": "code",
   "execution_count": null,
   "metadata": {},
   "outputs": [],
   "source": [
    "ph = PH(file='params/params_2.yaml')\n",
    "ph.load()\n",
    "pm = PM(ph)\n",
    "go = GO(pm, ph)\n",
    "ppi = PPI(pm, ph, batch_size=200)\n",
    "ae = AE(pm, ph, ppi, learn_rate=0.0001)"
   ]
  },
  {
   "cell_type": "code",
   "execution_count": null,
   "metadata": {
    "scrolled": true
   },
   "outputs": [],
   "source": [
    "#ppi.pca()\n",
    "ae.train(epochs=100)"
   ]
  },
  {
   "cell_type": "code",
   "execution_count": null,
   "metadata": {},
   "outputs": [],
   "source": [
    "c = ae.compress()"
   ]
  },
  {
   "cell_type": "code",
   "execution_count": null,
   "metadata": {},
   "outputs": [],
   "source": [
    "c.shape"
   ]
  },
  {
   "cell_type": "code",
   "execution_count": null,
   "metadata": {},
   "outputs": [],
   "source": [
    "if ph.get('postnormalization', True):\n",
    "    c = (c[:,0]-c[:,0].mean(axis=0))/np.std(c[:,0], axis=0)"
   ]
  },
  {
   "cell_type": "code",
   "execution_count": null,
   "metadata": {},
   "outputs": [],
   "source": [
    "ae.save()"
   ]
  },
  {
   "cell_type": "code",
   "execution_count": null,
   "metadata": {},
   "outputs": [],
   "source": [
    "knn = KNN(pm, ph, go, c, neighbor_count=10)"
   ]
  },
  {
   "cell_type": "code",
   "execution_count": null,
   "metadata": {
    "scrolled": true
   },
   "outputs": [],
   "source": [
    "Y = knn.predict()"
   ]
  },
  {
   "cell_type": "code",
   "execution_count": null,
   "metadata": {
    "scrolled": false
   },
   "outputs": [],
   "source": [
    "met = MetricGrapher(pm, ph, Y, go)\n",
    "met.new_metric(Metric.Function('posP'), Metric.Function('posR'))\n",
    "met.new_metric(Metric.Function('negP'), Metric.Function('negR'))\n",
    "met.new_metric(Metric.Function('tpr'), Metric.Function('fpr'))\n",
    "met.axies = ['Recall/TPR', 'Precision/TPR']\n",
    "met.initialize_metrics() \n",
    "met.make_graphs(show=True)"
   ]
  },
  {
   "cell_type": "code",
   "execution_count": null,
   "metadata": {},
   "outputs": [],
   "source": [
    "ph.save()"
   ]
  }
 ],
 "metadata": {
  "kernelspec": {
   "display_name": "Python 3",
   "language": "python",
   "name": "python3"
  },
  "language_info": {
   "codemirror_mode": {
    "name": "ipython",
    "version": 3
   },
   "file_extension": ".py",
   "mimetype": "text/x-python",
   "name": "python",
   "nbconvert_exporter": "python",
   "pygments_lexer": "ipython3",
   "version": "3.6.4"
  }
 },
 "nbformat": 4,
 "nbformat_minor": 2
}
